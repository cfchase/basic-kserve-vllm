{
 "cells": [
  {
   "cell_type": "markdown",
   "id": "4ad2cc4e-31ec-4648-b0fe-6632f2bdbc36",
   "metadata": {},
   "source": [
    "## Using the OpenAI API\n",
    "\n",
    "You have certainly interacted before with a Large Language Model (LLM) like ChatGPT. This is usually done through a UI or an application.\n"
   ]
  },
  {
   "cell_type": "markdown",
   "id": "2a4e2b81-0e10-4390-a7b8-5ddfda53a3e3",
   "metadata": {},
   "source": "### Requirements and Imports\n"
  },
  {
   "cell_type": "code",
   "id": "0f2b14bf-7b84-4f6c-9975-390d143ad3f1",
   "metadata": {
    "tags": []
   },
   "source": "!pip install openai",
   "outputs": [],
   "execution_count": null
  },
  {
   "cell_type": "markdown",
   "id": "c428fbad-2345-4536-b687-72416d6b9b15",
   "metadata": {},
   "source": "### OpenAI Client\n"
  },
  {
   "metadata": {},
   "cell_type": "code",
   "source": [
    "from openai import OpenAI\n",
    "\n",
    "infer_endpoint = \"https://model-vllm.apps.clusterx.sandboxx.opentlc.com\"\n",
    "model_name = \"served-model-name\"\n",
    "api_key = \"EMPTY\"\n",
    "\n",
    "client = OpenAI(\n",
    "    api_key=api_key,\n",
    "    base_url=f\"{infer_endpoint}/v1\" #don't forget the /v1\n",
    ")\n",
    "\n",
    "completion = client.chat.completions.create(\n",
    "    model=model_name,\n",
    "    messages=[\n",
    "        # This is a system prompt for Granite 3.  Replace the prompt for your LLM\n",
    "        {\n",
    "            \"role\": \"system\",\n",
    "            \"content\": \"<|system|>\\nI am a Red Hat Instruct Model, an AI language model developed by Red Hat and IBM Research based on the granite-3.0-8b-base model. My primary role is to serve as a chat assistant.\\n<|user|>\\nAnswer the following question based on internal knowledge.\\nQuestion:\\n {question}\\nAnswer:\\n<|assistant|>\"\n",
    "        },\n",
    "        # User message\n",
    "        {\n",
    "            \"role\": \"user\",\n",
    "            \"content\": \"Hi. Who are you?\"\n",
    "        }\n",
    "    ]\n",
    ")\n",
    "print(completion.choices[0].message)"
   ],
   "id": "977410bc8950fc76",
   "outputs": [],
   "execution_count": null
  }
 ],
 "metadata": {
  "kernelspec": {
   "display_name": "Python 3.9",
   "language": "python",
   "name": "python3"
  },
  "language_info": {
   "codemirror_mode": {
    "name": "ipython",
    "version": 3
   },
   "file_extension": ".py",
   "mimetype": "text/x-python",
   "name": "python",
   "nbconvert_exporter": "python",
   "pygments_lexer": "ipython3",
   "version": "3.9.18"
  }
 },
 "nbformat": 4,
 "nbformat_minor": 5
}
